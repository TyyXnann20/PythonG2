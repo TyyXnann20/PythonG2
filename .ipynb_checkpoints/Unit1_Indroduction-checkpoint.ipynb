{
 "cells": [
  {
   "cell_type": "code",
   "execution_count": 1,
   "id": "53a4ff82",
   "metadata": {},
   "outputs": [
    {
     "name": "stdout",
     "output_type": "stream",
     "text": [
      "Hello Day one\n"
     ]
    }
   ],
   "source": [
    "print(\"Hello Day one\")"
   ]
  },
  {
   "cell_type": "code",
   "execution_count": null,
   "id": "a4a5a588",
   "metadata": {},
   "outputs": [],
   "source": [
    "n = int(input(\"Enter the number of records: \"))\n",
    "students = []\n",
    "\n",
    "for _ in range(n):\n",
    "    print(f\"***************Student[{_+1}]\")\n",
    "    name = input(\"Enter student name: \")\n",
    "    score1 = float(input(\"Enter score 1: \"))\n",
    "    score2 = float(input(\"Enter score 2: \"))\n",
    "    score3 = float(input(\"Enter score 3: \"))\n",
    "\n",
    "    average = (score1 + score2 + score3) / 3\n",
    "\n",
    "    students.append((name, score1, score2, score3, average))\n",
    "\n",
    "# Print the records\n",
    "for student in students:\n",
    "    print(\"Name:\", student[0])\n",
    "    print(\"Score 1:\", student[1])\n",
    "    print(\"Score 2:\", student[2])\n",
    "    print(\"Score 3:\", student[3])\n",
    "    print(\"Average:\", student[4])\n",
    "    print()\n"
   ]
  },
  {
   "cell_type": "code",
   "execution_count": null,
   "id": "6b697a12",
   "metadata": {},
   "outputs": [],
   "source": []
  }
 ],
 "metadata": {
  "kernelspec": {
   "display_name": "Python 3 (ipykernel)",
   "language": "python",
   "name": "python3"
  },
  "language_info": {
   "codemirror_mode": {
    "name": "ipython",
    "version": 3
   },
   "file_extension": ".py",
   "mimetype": "text/x-python",
   "name": "python",
   "nbconvert_exporter": "python",
   "pygments_lexer": "ipython3",
   "version": "3.9.13"
  }
 },
 "nbformat": 4,
 "nbformat_minor": 5
}
