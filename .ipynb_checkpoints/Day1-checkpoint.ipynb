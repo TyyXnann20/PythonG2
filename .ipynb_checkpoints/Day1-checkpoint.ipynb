{
 "cells": [
  {
   "cell_type": "code",
   "execution_count": 1,
   "id": "6100ec55",
   "metadata": {
    "scrolled": true
   },
   "outputs": [
    {
     "name": "stdout",
     "output_type": "stream",
     "text": [
      "100\n",
      "12.5\n",
      "Phorn Sophy\n",
      "Integer: 100\n",
      "My name's: Phorn Sophy\n"
     ]
    }
   ],
   "source": [
    "#assign value to varibles\n",
    "num1 = 100\n",
    "num2 = 12.50\n",
    "name = \"Phorn Sophy\"\n",
    "#output values\n",
    "print(num1)\n",
    "print(num2)\n",
    "print(name)\n",
    "\n",
    "#print(num1, num2, name)\n",
    "print(\"Integer:\", num1)\n",
    "print(\"My name's:\", name)"
   ]
  },
  {
   "cell_type": "code",
   "execution_count": null,
   "id": "bcd1787a",
   "metadata": {},
   "outputs": [],
   "source": [
    "# by default from input function is string\n",
    "name = input(\"Enter name: \")\n",
    "# use int() to covert into integer number\n",
    "num1 = int(input(\"Enter number: \"))\n",
    "#use float() to convert into float number\n",
    "num2 = float(input(\"Enter float: \"))\n",
    "\n",
    "print(num1)\n",
    "print(num2)\n",
    "print(name)"
   ]
  },
  {
   "cell_type": "code",
   "execution_count": null,
   "id": "ca5d2cc3",
   "metadata": {},
   "outputs": [],
   "source": [
    "x = 10\n",
    "print(x)"
   ]
  },
  {
   "cell_type": "code",
   "execution_count": null,
   "id": "94f7c7b1",
   "metadata": {},
   "outputs": [],
   "source": []
  }
 ],
 "metadata": {
  "kernelspec": {
   "display_name": "Python 3 (ipykernel)",
   "language": "python",
   "name": "python3"
  },
  "language_info": {
   "codemirror_mode": {
    "name": "ipython",
    "version": 3
   },
   "file_extension": ".py",
   "mimetype": "text/x-python",
   "name": "python",
   "nbconvert_exporter": "python",
   "pygments_lexer": "ipython3",
   "version": "3.9.13"
  }
 },
 "nbformat": 4,
 "nbformat_minor": 5
}
