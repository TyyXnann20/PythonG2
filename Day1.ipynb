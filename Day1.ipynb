{
 "cells": [
  {
   "cell_type": "code",
   "execution_count": 1,
   "id": "6100ec55",
   "metadata": {
    "scrolled": true
   },
   "outputs": [
    {
     "name": "stdout",
     "output_type": "stream",
     "text": [
      "100\n",
      "12.5\n",
      "Phorn Sophy\n",
      "Integer: 100\n",
      "My name's: Phorn Sophy\n"
     ]
    }
   ],
   "source": [
    "#assign value to varibles\n",
    "num1 = 100\n",
    "num2 = 12.50\n",
    "name = \"Phorn Sophy\"\n",
    "#output values\n",
    "print(num1)\n",
    "print(num2)\n",
    "print(name)\n",
    "\n",
    "#print(num1, num2, name)\n",
    "print(\"Integer:\", num1)\n",
    "print(\"My name's:\", name)"
   ]
  },
  {
   "cell_type": "code",
   "execution_count": null,
   "id": "bcd1787a",
   "metadata": {},
   "outputs": [],
   "source": [
    "# by default from input function is string\n",
    "name = input(\"Enter name: \")\n",
    "# use int() to covert into integer number\n",
    "num1 = int(input(\"Enter number: \"))\n",
    "#use float() to convert into float number\n",
    "num2 = float(input(\"Enter float: \"))\n",
    "\n",
    "print(num1)\n",
    "print(num2)\n",
    "print(name)"
   ]
  },
  {
   "cell_type": "code",
   "execution_count": 2,
   "id": "ca5d2cc3",
   "metadata": {},
   "outputs": [
    {
     "name": "stdout",
     "output_type": "stream",
     "text": [
      "10\n",
      "Khmer \n"
     ]
    }
   ],
   "source": [
    "x = 10\n",
    "name = \"Khmer \"\n",
    "print(x)\n",
    "print(name)"
   ]
  },
  {
   "cell_type": "code",
   "execution_count": 4,
   "id": "94f7c7b1",
   "metadata": {},
   "outputs": [
    {
     "name": "stdout",
     "output_type": "stream",
     "text": [
      "Enter name: Noun Sreynann\n",
      "My name's:  Noun Sreynann\n"
     ]
    }
   ],
   "source": [
    "name = input(\"Enter name: \")\n",
    "print(\"My name's: \", name)"
   ]
  },
  {
   "cell_type": "code",
   "execution_count": 17,
   "id": "a6b2c849",
   "metadata": {},
   "outputs": [
    {
     "name": "stdout",
     "output_type": "stream",
     "text": [
      "My name is Sovath\n"
     ]
    }
   ],
   "source": [
    "# concat\n",
    "num1 = \"My name\"\n",
    "num2 = \"Sovath\"\n",
    "name = num1 + \" is \" + num2\n",
    "print(name)\n",
    "\n",
    "#print(num1 + \" \" + num2 + \" 18 years old\")"
   ]
  },
  {
   "cell_type": "code",
   "execution_count": 22,
   "id": "2404d0b5",
   "metadata": {},
   "outputs": [
    {
     "name": "stdout",
     "output_type": "stream",
     "text": [
      "Enter number1: 12\n",
      "Enter number2: 3\n",
      "Sum(+) of num1 and num2 = 15\n",
      "Minus(-) of num1 and num2 = 9\n",
      "Mutiple(*) of num1 and num2 = 36\n",
      "Divide(/) of num1 and num2 = 4.0\n"
     ]
    }
   ],
   "source": [
    "# Operator\n",
    "num1 = int(input(\"Enter number1: \"))\n",
    "num2 = int(input(\"Enter number2: \"))\n",
    "\n",
    "print(\"Sum(+) of num1 and num2 =\", num1 + num2)\n",
    "print(\"Minus(-) of num1 and num2 =\", num1-num2)\n",
    "print(\"Mutiple(*) of num1 and num2 =\", num1*num2)\n",
    "print(\"Divide(/) of num1 and num2 =\", num1/num2)"
   ]
  },
  {
   "cell_type": "code",
   "execution_count": 31,
   "id": "ab1351a7",
   "metadata": {},
   "outputs": [
    {
     "name": "stdout",
     "output_type": "stream",
     "text": [
      "Enter number1: 20\n",
      "Enter number2: 10\n",
      "\tSum(+) of 20 and 10 = 30\n",
      "Sum(+) of num1 and num2 = 30\n",
      "\n",
      "\n",
      "\n",
      "Sum(+) of 20 and 10 = 30\n",
      "Minus(-) of 20 and 10 = 10\n",
      "Mutiple(*) of 20 and 10 = 200\n",
      "\tDivide(/) of 20 and 10 = 2.0\n"
     ]
    }
   ],
   "source": [
    "# Operator (+) (-) (*), and (/)\n",
    "num1 = int(input(\"Enter number1: \"))\n",
    "num2 = int(input(\"Enter number2: \"))\n",
    "\n",
    "print(\"\\tSum(+) of\",num1, \"and\", num2, \"=\", num1 + num2)\n",
    "print(\"Sum(+) of num1 and num2 =\", num1 + num2)\n",
    "print(\"\\n\\n\")\n",
    "\n",
    "print(f\"Sum(+) of {num1} and {num2} =\", num1 + num2)\n",
    "print(f\"Minus(-) of {num1} and {num2} =\", num1-num2)\n",
    "print(f\"Mutiple(*) of {num1} and {num2} =\", num1*num2)\n",
    "print(f\"\\tDivide(/) of {num1} and {num2} =\", num1/num2)"
   ]
  },
  {
   "cell_type": "code",
   "execution_count": 36,
   "id": "a1864021",
   "metadata": {},
   "outputs": [
    {
     "name": "stdout",
     "output_type": "stream",
     "text": [
      "Happy 20rd Birthday\n"
     ]
    }
   ],
   "source": [
    "age = 20\n",
    "hbd = \"Happy \" + str(age) + \"rd Birthday\"\n",
    "print(hbd)"
   ]
  },
  {
   "cell_type": "code",
   "execution_count": 40,
   "id": "101463bf",
   "metadata": {},
   "outputs": [
    {
     "name": "stdout",
     "output_type": "stream",
     "text": [
      "<class 'int'>\n",
      "<class 'str'>\n"
     ]
    }
   ],
   "source": [
    "age = 20\n",
    "print(type(age))\n",
    "print(type(str(age)))"
   ]
  },
  {
   "cell_type": "code",
   "execution_count": null,
   "id": "54b9314b",
   "metadata": {},
   "outputs": [],
   "source": []
  }
 ],
 "metadata": {
  "kernelspec": {
   "display_name": "Python 3 (ipykernel)",
   "language": "python",
   "name": "python3"
  },
  "language_info": {
   "codemirror_mode": {
    "name": "ipython",
    "version": 3
   },
   "file_extension": ".py",
   "mimetype": "text/x-python",
   "name": "python",
   "nbconvert_exporter": "python",
   "pygments_lexer": "ipython3",
   "version": "3.9.13"
  }
 },
 "nbformat": 4,
 "nbformat_minor": 5
}
